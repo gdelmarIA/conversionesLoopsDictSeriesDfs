{
 "cells": [
  {
   "cell_type": "code",
   "execution_count": 1,
   "id": "3f7c0d53",
   "metadata": {},
   "outputs": [],
   "source": [
    "import numpy as np\n",
    "import pandas as pd"
   ]
  },
  {
   "cell_type": "code",
   "execution_count": 2,
   "id": "b5f9dfa5",
   "metadata": {},
   "outputs": [],
   "source": [
    "df_v = pd.read_csv(\"./datosPoblacion.csv\", header=0)"
   ]
  },
  {
   "cell_type": "code",
   "execution_count": 7,
   "id": "39d8b39e",
   "metadata": {},
   "outputs": [],
   "source": [
    "ver = df_v.iloc[13]"
   ]
  },
  {
   "cell_type": "code",
   "execution_count": 8,
   "id": "78043ff6",
   "metadata": {},
   "outputs": [
    {
     "data": {
      "text/plain": [
       "Country Name;Country Code;1960;1961;1962;1963;1964;1965;1966;1967;1968;1969;1970;1971;1972;1973;1974;1975;1976;1977;1978;1979;1980;1981;1982;1983;1984;1985;1986;1987;1988;1989;1990;1991;1992;1993;1994;1995;1996;1997;1998;1999;2000;2001;2002;2003;2004;2005;2006;2007;2008;2009;2010;2011;2012;2013;2014;2015;2016;2017;2018;2019;2020;2021    Australia;AUS;10276477;10483000;10742000;10950...\n",
       "Name: 13, dtype: object"
      ]
     },
     "execution_count": 8,
     "metadata": {},
     "output_type": "execute_result"
    }
   ],
   "source": [
    "ver"
   ]
  },
  {
   "cell_type": "code",
   "execution_count": 9,
   "id": "1316af51",
   "metadata": {},
   "outputs": [
    {
     "data": {
      "text/plain": [
       "'Aruba;ABW;54208;55434;56234;56699;57029;57357;57702;58044;58377;58734;59070;59442;59849;60236;60527;60653;60586;60366;60102;59972;60097;60561;61341;62213;62826;63024;62645;61838;61072;61033;62152;64623;68240;72495;76705;80324;83211;85450;87280;89009;90866;92892;94992;97016;98744;100028;100830;101226;101362;101452;101665;102050;102565;103165;103776;104339;104865;105361;105846;106310;106766;107195'"
      ]
     },
     "execution_count": 9,
     "metadata": {},
     "output_type": "execute_result"
    }
   ],
   "source": [
    "df_v.iloc[0]['Country Name;Country Code;1960;1961;1962;1963;1964;1965;1966;1967;1968;1969;1970;1971;1972;1973;1974;1975;1976;1977;1978;1979;1980;1981;1982;1983;1984;1985;1986;1987;1988;1989;1990;1991;1992;1993;1994;1995;1996;1997;1998;1999;2000;2001;2002;2003;2004;2005;2006;2007;2008;2009;2010;2011;2012;2013;2014;2015;2016;2017;2018;2019;2020;2021']"
   ]
  },
  {
   "cell_type": "code",
   "execution_count": null,
   "id": "16448ed7",
   "metadata": {},
   "outputs": [],
   "source": []
  }
 ],
 "metadata": {
  "kernelspec": {
   "display_name": "Python 3 (ipykernel)",
   "language": "python",
   "name": "python3"
  },
  "language_info": {
   "codemirror_mode": {
    "name": "ipython",
    "version": 3
   },
   "file_extension": ".py",
   "mimetype": "text/x-python",
   "name": "python",
   "nbconvert_exporter": "python",
   "pygments_lexer": "ipython3",
   "version": "3.10.6"
  }
 },
 "nbformat": 4,
 "nbformat_minor": 5
}
